{
 "cells": [
  {
   "cell_type": "code",
   "execution_count": 69,
   "id": "8ead099c",
   "metadata": {},
   "outputs": [],
   "source": [
    "import pandas as pd\n",
    "from sklearn.linear_model import LogisticRegression\n",
    "from sklearn.model_selection import train_test_split\n",
    "from sklearn import metrics\n"
   ]
  },
  {
   "cell_type": "code",
   "execution_count": 52,
   "id": "b9816bba",
   "metadata": {},
   "outputs": [],
   "source": [
    "# load dataset\n",
    "\n",
    "df = pd.read_csv(r'C:\\Users\\omdre\\OneDrive\\Desktop\\DATA SCIENCE\\workspace\\soil_measures.csv')\n"
   ]
  },
  {
   "cell_type": "code",
   "execution_count": 53,
   "id": "a0a8a13d",
   "metadata": {},
   "outputs": [
    {
     "data": {
      "text/html": [
       "<div>\n",
       "<style scoped>\n",
       "    .dataframe tbody tr th:only-of-type {\n",
       "        vertical-align: middle;\n",
       "    }\n",
       "\n",
       "    .dataframe tbody tr th {\n",
       "        vertical-align: top;\n",
       "    }\n",
       "\n",
       "    .dataframe thead th {\n",
       "        text-align: right;\n",
       "    }\n",
       "</style>\n",
       "<table border=\"1\" class=\"dataframe\">\n",
       "  <thead>\n",
       "    <tr style=\"text-align: right;\">\n",
       "      <th></th>\n",
       "      <th>N</th>\n",
       "      <th>P</th>\n",
       "      <th>K</th>\n",
       "      <th>ph</th>\n",
       "      <th>crop</th>\n",
       "    </tr>\n",
       "  </thead>\n",
       "  <tbody>\n",
       "    <tr>\n",
       "      <th>0</th>\n",
       "      <td>90</td>\n",
       "      <td>42</td>\n",
       "      <td>43</td>\n",
       "      <td>6.502985</td>\n",
       "      <td>rice</td>\n",
       "    </tr>\n",
       "    <tr>\n",
       "      <th>1</th>\n",
       "      <td>85</td>\n",
       "      <td>58</td>\n",
       "      <td>41</td>\n",
       "      <td>7.038096</td>\n",
       "      <td>rice</td>\n",
       "    </tr>\n",
       "    <tr>\n",
       "      <th>2</th>\n",
       "      <td>60</td>\n",
       "      <td>55</td>\n",
       "      <td>44</td>\n",
       "      <td>7.840207</td>\n",
       "      <td>rice</td>\n",
       "    </tr>\n",
       "    <tr>\n",
       "      <th>3</th>\n",
       "      <td>74</td>\n",
       "      <td>35</td>\n",
       "      <td>40</td>\n",
       "      <td>6.980401</td>\n",
       "      <td>rice</td>\n",
       "    </tr>\n",
       "    <tr>\n",
       "      <th>4</th>\n",
       "      <td>78</td>\n",
       "      <td>42</td>\n",
       "      <td>42</td>\n",
       "      <td>7.628473</td>\n",
       "      <td>rice</td>\n",
       "    </tr>\n",
       "  </tbody>\n",
       "</table>\n",
       "</div>"
      ],
      "text/plain": [
       "    N   P   K        ph  crop\n",
       "0  90  42  43  6.502985  rice\n",
       "1  85  58  41  7.038096  rice\n",
       "2  60  55  44  7.840207  rice\n",
       "3  74  35  40  6.980401  rice\n",
       "4  78  42  42  7.628473  rice"
      ]
     },
     "execution_count": 53,
     "metadata": {},
     "output_type": "execute_result"
    }
   ],
   "source": [
    "# inspect dataset\n",
    "df.head()\n",
    "\n"
   ]
  },
  {
   "cell_type": "code",
   "execution_count": 54,
   "id": "0b5e5304",
   "metadata": {},
   "outputs": [
    {
     "data": {
      "text/plain": [
       "N       0\n",
       "P       0\n",
       "K       0\n",
       "ph      0\n",
       "crop    0\n",
       "dtype: int64"
      ]
     },
     "execution_count": 54,
     "metadata": {},
     "output_type": "execute_result"
    }
   ],
   "source": [
    "#check for missing values\n",
    "df.isna().sum()"
   ]
  },
  {
   "cell_type": "code",
   "execution_count": 55,
   "id": "835024fe",
   "metadata": {},
   "outputs": [
    {
     "data": {
      "text/plain": [
       "array(['rice', 'maize', 'chickpea', 'kidneybeans', 'pigeonpeas',\n",
       "       'mothbeans', 'mungbean', 'blackgram', 'lentil', 'pomegranate',\n",
       "       'banana', 'mango', 'grapes', 'watermelon', 'muskmelon', 'apple',\n",
       "       'orange', 'papaya', 'coconut', 'cotton', 'jute', 'coffee'],\n",
       "      dtype=object)"
      ]
     },
     "execution_count": 55,
     "metadata": {},
     "output_type": "execute_result"
    }
   ],
   "source": [
    "#check how many crops \n",
    "df.crop.unique()"
   ]
  },
  {
   "cell_type": "code",
   "execution_count": 56,
   "id": "c945d7b1",
   "metadata": {},
   "outputs": [],
   "source": [
    "\"\"\"\n",
    "\"N\": Nitrogen content ratio in the soil\n",
    "\"P\": Phosphorous content ratio in the soil\n",
    "\"K\": Potassium content ratio in the soil\n",
    "\"pH\" value of the soil\n",
    "\"crop\": categorical values that contain various crops (target variable). \"\"\"\n",
    " \n",
    "#create array of features    \n",
    "features = [\"N\",\"P\",\"K\",\"ph\"]"
   ]
  },
  {
   "cell_type": "code",
   "execution_count": 57,
   "id": "5b5c6254",
   "metadata": {},
   "outputs": [],
   "source": [
    "#create an emprty dictionary to store feature performance \n",
    "feature_performance = {}\n"
   ]
  },
  {
   "cell_type": "code",
   "execution_count": 58,
   "id": "17c4273b",
   "metadata": {},
   "outputs": [],
   "source": [
    "# Split into feature and target set \n",
    "\n",
    "X = df.drop(columns=\"crop\")\n",
    "y = df[\"crop\"]"
   ]
  },
  {
   "cell_type": "code",
   "execution_count": 59,
   "id": "4dbbf361",
   "metadata": {},
   "outputs": [
    {
     "name": "stdout",
     "output_type": "stream",
     "text": [
      "(2200, 4) (2200,)\n"
     ]
    }
   ],
   "source": [
    "print(X.shape, y.shape)"
   ]
  },
  {
   "cell_type": "code",
   "execution_count": 60,
   "id": "517f55f4",
   "metadata": {},
   "outputs": [
    {
     "name": "stdout",
     "output_type": "stream",
     "text": [
      "<class 'pandas.core.frame.DataFrame'> <class 'pandas.core.series.Series'>\n"
     ]
    }
   ],
   "source": [
    "print(type(X), type(y))"
   ]
  },
  {
   "cell_type": "code",
   "execution_count": 63,
   "id": "a0a35952",
   "metadata": {},
   "outputs": [],
   "source": [
    "#instantiate Logistic Regression; loop through features' & train logistic regression model for each feature\n",
    "X_train, X_test, y_train, y_test = train_test_split(\n",
    "    X,\n",
    "    y,\n",
    "    test_size=0.3,\n",
    "    random_state=42\n",
    ")\n"
   ]
  },
  {
   "cell_type": "code",
   "execution_count": 64,
   "id": "f77db377",
   "metadata": {},
   "outputs": [
    {
     "name": "stdout",
     "output_type": "stream",
     "text": [
      "F1 score for N:0.10677892163802272\n",
      "F1 score for P:0.12167221934598027\n",
      "F1 score for K:0.19730431018300978\n",
      "F1 score for ph:0.06787631271947597\n"
     ]
    }
   ],
   "source": [
    "for feature in features:\n",
    "    log_reg = LogisticRegression(solver='lbfgs', max_iter=5000, multi_class = \"multinomial\")\n",
    "    log_reg.fit(X_train[[feature]], y_train)\n",
    "    y_pred = log_reg.predict(X_test[[feature]])\n",
    "    #calculate F1_score for each feature to evaluate performance of each feature\n",
    "    f1 = metrics.f1_score(y_test, y_pred, average = \"weighted\")\n",
    "    #create feature-score pairs\n",
    "    feature_performance[feature] = f1\n",
    "    print(f\"F1 score for {feature}:{f1}\")\n",
    "\n"
   ]
  },
  {
   "cell_type": "code",
   "execution_count": 73,
   "id": "932b37b5",
   "metadata": {},
   "outputs": [
    {
     "name": "stdout",
     "output_type": "stream",
     "text": [
      "Balanced_accuracy_score for N: 0.16211462305023777\n",
      "Balanced_accuracy_score for P: 0.2008150229552229\n",
      "Balanced_accuracy_score for K: 0.29982703636853836\n",
      "Balanced_accuracy_score for ph: 0.12377246254905522\n"
     ]
    }
   ],
   "source": [
    "#using metrics.balanced_accuracy_score() to evaluate oerformance of each feature\n",
    "for feature in features:\n",
    "    log_reg = LogisticRegression(solver='lbfgs', max_iter=5000, multi_class = \"multinomial\")\n",
    "    log_reg.fit(X_train[[feature]], y_train)\n",
    "    y_pred = log_reg.predict(X_test[[feature]])\n",
    "    balanced_accuracy_score = metrics.balanced_accuracy_score(y_test, y_pred, sample_weight=None, adjusted=False)\n",
    "    feature_performance[feature] = balanced_accuracy_score\n",
    "    print(f\"Balanced_accuracy_score for {feature}: {balanced_accuracy_score}\")\n",
    "    \n",
    "\n",
    "    \n",
    "    "
   ]
  },
  {
   "cell_type": "code",
   "execution_count": 75,
   "id": "a269c780",
   "metadata": {},
   "outputs": [],
   "source": [
    "#\"K\" produced the best scores"
   ]
  },
  {
   "cell_type": "code",
   "execution_count": null,
   "id": "52f3a137",
   "metadata": {},
   "outputs": [],
   "source": []
  }
 ],
 "metadata": {
  "kernelspec": {
   "display_name": "Python 3 (ipykernel)",
   "language": "python",
   "name": "python3"
  },
  "language_info": {
   "codemirror_mode": {
    "name": "ipython",
    "version": 3
   },
   "file_extension": ".py",
   "mimetype": "text/x-python",
   "name": "python",
   "nbconvert_exporter": "python",
   "pygments_lexer": "ipython3",
   "version": "3.9.7"
  }
 },
 "nbformat": 4,
 "nbformat_minor": 5
}
